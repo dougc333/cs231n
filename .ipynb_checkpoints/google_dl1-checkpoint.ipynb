{
 "cells": [
  {
   "cell_type": "code",
   "execution_count": 2,
   "metadata": {
    "collapsed": false
   },
   "outputs": [],
   "source": [
    "#logistic example\n",
    "\n",
    "# These are all the modules we'll be using later. Make sure you can import them\n",
    "# before proceeding further.\n",
    "from __future__ import print_function\n",
    "import matplotlib.pyplot as plt\n",
    "import numpy as np\n",
    "import os\n",
    "import sys\n",
    "import tarfile\n",
    "from IPython.display import display, Image\n",
    "from scipy import ndimage\n",
    "from sklearn.linear_model import LogisticRegression\n",
    "from six.moves.urllib.request import urlretrieve\n",
    "from six.moves import cPickle as pickle\n",
    "\n",
    "# Config the matlotlib backend as plotting inline in IPython\n",
    "%matplotlib inline\n",
    "\n"
   ]
  },
  {
   "cell_type": "code",
   "execution_count": 3,
   "metadata": {
    "collapsed": false
   },
   "outputs": [
    {
     "name": "stdout",
     "output_type": "stream",
     "text": [
      "Found and verified notMNIST_large.tar.gz\n",
      "Found and verified notMNIST_small.tar.gz\n"
     ]
    }
   ],
   "source": [
    "url = 'http://commondatastorage.googleapis.com/books1000/'\n",
    "last_percent_reported = None\n",
    "\n",
    "def download_progress_hook(count, blockSize, totalSize):\n",
    "  \"\"\"A hook to report the progress of a download. This is mostly intended for users with\n",
    "  slow internet connections. Reports every 1% change in download progress.\n",
    "  \"\"\"\n",
    "  global last_percent_reported\n",
    "  percent = int(count * blockSize * 100 / totalSize)\n",
    "\n",
    "  if last_percent_reported != percent:\n",
    "    if percent % 5 == 0:\n",
    "      sys.stdout.write(\"%s%%\" % percent)\n",
    "      sys.stdout.flush()\n",
    "    else:\n",
    "      sys.stdout.write(\".\")\n",
    "      sys.stdout.flush()\n",
    "      \n",
    "    last_percent_reported = percent\n",
    "        \n",
    "def maybe_download(filename, expected_bytes, force=False):\n",
    "  \"\"\"Download a file if not present, and make sure it's the right size.\"\"\"\n",
    "  if force or not os.path.exists(filename):\n",
    "    print('Attempting to download:', filename) \n",
    "    filename, _ = urlretrieve(url + filename, filename, reporthook=download_progress_hook)\n",
    "    print('\\nDownload Complete!')\n",
    "  statinfo = os.stat(filename)\n",
    "  if statinfo.st_size == expected_bytes:\n",
    "    print('Found and verified', filename)\n",
    "  else:\n",
    "    raise Exception(\n",
    "      'Failed to verify ' + filename + '. Can you get to it with a browser?')\n",
    "  return filename\n",
    "\n",
    "train_filename = maybe_download('notMNIST_large.tar.gz', 247336696)\n",
    "test_filename = maybe_download('notMNIST_small.tar.gz', 8458043)"
   ]
  },
  {
   "cell_type": "code",
   "execution_count": 4,
   "metadata": {
    "collapsed": false
   },
   "outputs": [
    {
     "name": "stdout",
     "output_type": "stream",
     "text": [
      "notMNIST_large already present - Skipping extraction of notMNIST_large.tar.gz.\n",
      "['notMNIST_large/A', 'notMNIST_large/B', 'notMNIST_large/C', 'notMNIST_large/D', 'notMNIST_large/E', 'notMNIST_large/F', 'notMNIST_large/G', 'notMNIST_large/H', 'notMNIST_large/I', 'notMNIST_large/J']\n",
      "notMNIST_small already present - Skipping extraction of notMNIST_small.tar.gz.\n",
      "['notMNIST_small/A', 'notMNIST_small/B', 'notMNIST_small/C', 'notMNIST_small/D', 'notMNIST_small/E', 'notMNIST_small/F', 'notMNIST_small/G', 'notMNIST_small/H', 'notMNIST_small/I', 'notMNIST_small/J']\n"
     ]
    }
   ],
   "source": [
    "num_classes = 10\n",
    "np.random.seed(133)\n",
    "\n",
    "def maybe_extract(filename, force=False):\n",
    "  root = os.path.splitext(os.path.splitext(filename)[0])[0]  # remove .tar.gz\n",
    "  if os.path.isdir(root) and not force:\n",
    "    # You may override by setting force=True.\n",
    "    print('%s already present - Skipping extraction of %s.' % (root, filename))\n",
    "  else:\n",
    "    print('Extracting data for %s. This may take a while. Please wait.' % root)\n",
    "    tar = tarfile.open(filename)\n",
    "    sys.stdout.flush()\n",
    "    tar.extractall()\n",
    "    tar.close()\n",
    "  data_folders = [\n",
    "    os.path.join(root, d) for d in sorted(os.listdir(root))\n",
    "    if os.path.isdir(os.path.join(root, d))]\n",
    "  if len(data_folders) != num_classes:\n",
    "    raise Exception(\n",
    "      'Expected %d folders, one per class. Found %d instead.' % (\n",
    "        num_classes, len(data_folders)))\n",
    "  print(data_folders)\n",
    "  return data_folders\n",
    "  \n",
    "train_folders = maybe_extract(train_filename)\n",
    "test_folders = maybe_extract(test_filename)"
   ]
  },
  {
   "cell_type": "code",
   "execution_count": 5,
   "metadata": {
    "collapsed": false
   },
   "outputs": [
    {
     "name": "stdout",
     "output_type": "stream",
     "text": [
      "notMNIST_large/A.pickle already present - Skipping pickling.\n",
      "notMNIST_large/B.pickle already present - Skipping pickling.\n",
      "notMNIST_large/C.pickle already present - Skipping pickling.\n",
      "notMNIST_large/D.pickle already present - Skipping pickling.\n",
      "notMNIST_large/E.pickle already present - Skipping pickling.\n",
      "notMNIST_large/F.pickle already present - Skipping pickling.\n",
      "notMNIST_large/G.pickle already present - Skipping pickling.\n",
      "notMNIST_large/H.pickle already present - Skipping pickling.\n",
      "notMNIST_large/I.pickle already present - Skipping pickling.\n",
      "notMNIST_large/J.pickle already present - Skipping pickling.\n",
      "notMNIST_small/A.pickle already present - Skipping pickling.\n",
      "notMNIST_small/B.pickle already present - Skipping pickling.\n",
      "notMNIST_small/C.pickle already present - Skipping pickling.\n",
      "notMNIST_small/D.pickle already present - Skipping pickling.\n",
      "notMNIST_small/E.pickle already present - Skipping pickling.\n",
      "notMNIST_small/F.pickle already present - Skipping pickling.\n",
      "notMNIST_small/G.pickle already present - Skipping pickling.\n",
      "notMNIST_small/H.pickle already present - Skipping pickling.\n",
      "notMNIST_small/I.pickle already present - Skipping pickling.\n",
      "notMNIST_small/J.pickle already present - Skipping pickling.\n"
     ]
    }
   ],
   "source": [
    "\n",
    "image_size = 28  # Pixel width and height.\n",
    "pixel_depth = 255.0  # Number of levels per pixel.\n",
    "\n",
    "def load_letter(folder, min_num_images):\n",
    "  \"\"\"Load the data for a single letter label.\"\"\"\n",
    "  image_files = os.listdir(folder)\n",
    "  dataset = np.ndarray(shape=(len(image_files), image_size, image_size),\n",
    "                         dtype=np.float32)\n",
    "  print(folder)\n",
    "  num_images = 0\n",
    "  for image in image_files:\n",
    "    image_file = os.path.join(folder, image)\n",
    "    try:\n",
    "      image_data = (ndimage.imread(image_file).astype(float) - \n",
    "                    pixel_depth / 2) / pixel_depth\n",
    "      if image_data.shape != (image_size, image_size):\n",
    "        raise Exception('Unexpected image shape: %s' % str(image_data.shape))\n",
    "      dataset[num_images, :, :] = image_data\n",
    "      num_images = num_images + 1\n",
    "    except IOError as e:\n",
    "      print('Could not read:', image_file, ':', e, '- it\\'s ok, skipping.')\n",
    "    \n",
    "  dataset = dataset[0:num_images, :, :]\n",
    "  if num_images < min_num_images:\n",
    "    raise Exception('Many fewer images than expected: %d < %d' %\n",
    "                    (num_images, min_num_images))\n",
    "    \n",
    "  print('Full dataset tensor:', dataset.shape)\n",
    "  print('Mean:', np.mean(dataset))\n",
    "  print('Standard deviation:', np.std(dataset))\n",
    "  return dataset\n",
    "        \n",
    "def maybe_pickle(data_folders, min_num_images_per_class, force=False):\n",
    "  dataset_names = []\n",
    "  for folder in data_folders:\n",
    "    set_filename = folder + '.pickle'\n",
    "    dataset_names.append(set_filename)\n",
    "    if os.path.exists(set_filename) and not force:\n",
    "      # You may override by setting force=True.\n",
    "      print('%s already present - Skipping pickling.' % set_filename)\n",
    "    else:\n",
    "      print('Pickling %s.' % set_filename)\n",
    "      dataset = load_letter(folder, min_num_images_per_class)\n",
    "      try:\n",
    "        with open(set_filename, 'wb') as f:\n",
    "          pickle.dump(dataset, f, pickle.HIGHEST_PROTOCOL)\n",
    "      except Exception as e:\n",
    "        print('Unable to save data to', set_filename, ':', e)\n",
    "  \n",
    "  return dataset_names\n",
    "\n",
    "train_datasets = maybe_pickle(train_folders, 45000)\n",
    "test_datasets = maybe_pickle(test_folders, 1800)"
   ]
  },
  {
   "cell_type": "code",
   "execution_count": 14,
   "metadata": {
    "collapsed": false
   },
   "outputs": [
    {
     "data": {
      "image/png": "[encoded data removed]",
      "text/plain": [
       "<matplotlib.figure.Figure at 0x15ef81390>"
      ]
     },
     "metadata": {},
     "output_type": "display_data"
    }
   ],
   "source": [
    "import matplotlib.pyplot as plt\n",
    "\n",
    "test = pickle.load( open( \"/Users/dc/tmp/cs231n/notMNIST_small/A.pickle\", \"rb\" ) )\n",
    "\n",
    "type(test) #numpy.ndarray\n",
    "test.shape #(1872, 28, 28)\n",
    "tuple = test[1].shape\n",
    "tuple\n",
    "\n",
    "fig, (ax1,ax2,ax3,ax4) = plt.subplots(ncols=4, sharex=True, sharey=True, subplot_kw={'adjustable':'box-forced'})\n",
    "\n",
    "ax1.imshow(test[285])\n",
    "ax1.set_title('Original')\n",
    "ax1.axis('off')\n",
    "\n",
    "\n",
    "ax2.imshow(test[430])\n",
    "ax2.set_title('Original')\n",
    "ax2.axis('off')\n",
    "\n",
    "ax3.imshow(test[300])\n",
    "ax3.set_title('Original')\n",
    "ax3.axis('off')\n",
    "\n",
    "ax4.imshow(test[400])\n",
    "ax4.set_title('Original')\n",
    "ax4.axis('off')\n",
    "plt.show()\n",
    "\n",
    "\n",
    "\n",
    "\n",
    "\n"
   ]
  },
  {
   "cell_type": "code",
   "execution_count": 7,
   "metadata": {
    "collapsed": false
   },
   "outputs": [
    {
     "name": "stdout",
     "output_type": "stream",
     "text": [
      "(1872, 28, 28)\n",
      "(1873, 28, 28)\n",
      "(1873, 28, 28)\n",
      "(1873, 28, 28)\n",
      "(1873, 28, 28)\n",
      "(1872, 28, 28)\n",
      "(1872, 28, 28)\n",
      "(1872, 28, 28)\n",
      "(1872, 28, 28)\n",
      "(1872, 28, 28)\n"
     ]
    }
   ],
   "source": [
    "#balanced across classes\n",
    "\n",
    "testA = pickle.load( open( \"/Users/dc/tmp/cs231n/notMNIST_small/A.pickle\", \"rb\" ) )\n",
    "testB = pickle.load( open( \"/Users/dc/tmp/cs231n/notMNIST_small/B.pickle\", \"rb\" ) )\n",
    "testC = pickle.load( open( \"/Users/dc/tmp/cs231n/notMNIST_small/C.pickle\", \"rb\" ) )\n",
    "testD = pickle.load( open( \"/Users/dc/tmp/cs231n/notMNIST_small/D.pickle\", \"rb\" ) )\n",
    "testE = pickle.load( open( \"/Users/dc/tmp/cs231n/notMNIST_small/E.pickle\", \"rb\" ) )\n",
    "testF = pickle.load( open( \"/Users/dc/tmp/cs231n/notMNIST_small/F.pickle\", \"rb\" ) )\n",
    "testG = pickle.load( open( \"/Users/dc/tmp/cs231n/notMNIST_small/G.pickle\", \"rb\" ) )\n",
    "testH = pickle.load( open( \"/Users/dc/tmp/cs231n/notMNIST_small/H.pickle\", \"rb\" ) )\n",
    "testI = pickle.load( open( \"/Users/dc/tmp/cs231n/notMNIST_small/I.pickle\", \"rb\" ) )\n",
    "testJ = pickle.load( open( \"/Users/dc/tmp/cs231n/notMNIST_small/J.pickle\", \"rb\" ) )\n",
    "print (str(testA.shape))\n",
    "print (str(testB.shape))\n",
    "print (str(testC.shape))\n",
    "print (str(testD.shape))\n",
    "print (str(testE.shape))\n",
    "print (str(testF.shape))\n",
    "print (str(testG.shape))\n",
    "print (str(testH.shape))\n",
    "print (str(testI.shape))\n",
    "print (str(testJ.shape))"
   ]
  },
  {
   "cell_type": "code",
   "execution_count": 8,
   "metadata": {
    "collapsed": false
   },
   "outputs": [
    {
     "name": "stdout",
     "output_type": "stream",
     "text": [
      "Training: (200000, 28, 28) (200000,)\n",
      "Validation: (10000, 28, 28) (10000,)\n",
      "Testing: (10000, 28, 28) (10000,)\n"
     ]
    }
   ],
   "source": [
    "def make_arrays(nb_rows, img_size):\n",
    "  if nb_rows:\n",
    "    dataset = np.ndarray((nb_rows, img_size, img_size), dtype=np.float32)\n",
    "    labels = np.ndarray(nb_rows, dtype=np.int32)\n",
    "  else:\n",
    "    dataset, labels = None, None\n",
    "  return dataset, labels\n",
    "\n",
    "def merge_datasets(pickle_files, train_size, valid_size=0):\n",
    "  num_classes = len(pickle_files)\n",
    "  valid_dataset, valid_labels = make_arrays(valid_size, image_size)\n",
    "  train_dataset, train_labels = make_arrays(train_size, image_size)\n",
    "  vsize_per_class = valid_size // num_classes\n",
    "  tsize_per_class = train_size // num_classes\n",
    "    \n",
    "  start_v, start_t = 0, 0\n",
    "  end_v, end_t = vsize_per_class, tsize_per_class\n",
    "  end_l = vsize_per_class+tsize_per_class\n",
    "  for label, pickle_file in enumerate(pickle_files):       \n",
    "    try:\n",
    "      with open(pickle_file, 'rb') as f:\n",
    "        letter_set = pickle.load(f)\n",
    "        # let's shuffle the letters to have random validation and training set\n",
    "        np.random.shuffle(letter_set)\n",
    "        if valid_dataset is not None:\n",
    "          valid_letter = letter_set[:vsize_per_class, :, :]\n",
    "          valid_dataset[start_v:end_v, :, :] = valid_letter\n",
    "          valid_labels[start_v:end_v] = label\n",
    "          start_v += vsize_per_class\n",
    "          end_v += vsize_per_class\n",
    "                    \n",
    "        train_letter = letter_set[vsize_per_class:end_l, :, :]\n",
    "        train_dataset[start_t:end_t, :, :] = train_letter\n",
    "        train_labels[start_t:end_t] = label\n",
    "        start_t += tsize_per_class\n",
    "        end_t += tsize_per_class\n",
    "    except Exception as e:\n",
    "      print('Unable to process data from', pickle_file, ':', e)\n",
    "      raise\n",
    "    \n",
    "  return valid_dataset, valid_labels, train_dataset, train_labels\n",
    "            \n",
    "            \n",
    "train_size = 200000\n",
    "valid_size = 10000\n",
    "test_size = 10000\n",
    "\n",
    "valid_dataset, valid_labels, train_dataset, train_labels = merge_datasets(\n",
    "  train_datasets, train_size, valid_size)\n",
    "_, _, test_dataset, test_labels = merge_datasets(test_datasets, test_size)\n",
    "\n",
    "print('Training:', train_dataset.shape, train_labels.shape)\n",
    "print('Validation:', valid_dataset.shape, valid_labels.shape)\n",
    "print('Testing:', test_dataset.shape, test_labels.shape)"
   ]
  },
  {
   "cell_type": "code",
   "execution_count": 9,
   "metadata": {
    "collapsed": true
   },
   "outputs": [],
   "source": [
    "def randomize(dataset, labels):\n",
    "  permutation = np.random.permutation(labels.shape[0])\n",
    "  shuffled_dataset = dataset[permutation,:,:]\n",
    "  shuffled_labels = labels[permutation]\n",
    "  return shuffled_dataset, shuffled_labels\n",
    "random_train_dataset, random_train_labels = randomize(train_dataset, train_labels)\n",
    "random_test_dataset, random_test_labels = randomize(test_dataset, test_labels)\n",
    "random_valid_dataset, random_valid_labels = randomize(valid_dataset, valid_labels)"
   ]
  },
  {
   "cell_type": "code",
   "execution_count": 10,
   "metadata": {
    "collapsed": false
   },
   "outputs": [
    {
     "name": "stdout",
     "output_type": "stream",
     "text": [
      "(200000, 28, 28)\n",
      "(200000,)\n",
      "(10000, 28, 28)\n",
      "(10000,)\n",
      "(10000, 28, 28)\n",
      "(10000,)\n"
     ]
    }
   ],
   "source": [
    "print (str(random_train_dataset.shape))\n",
    "print (str(random_train_labels.shape))\n",
    "print (str(random_test_dataset.shape))\n",
    "print (str(random_test_labels.shape))\n",
    "print (str(random_valid_dataset.shape))\n",
    "print (str(random_valid_labels.shape))"
   ]
  },
  {
   "cell_type": "code",
   "execution_count": 11,
   "metadata": {
    "collapsed": false,
    "scrolled": true
   },
   "outputs": [
    {
     "data": {
      "image/png": "[encoded data removed]",
      "text/plain": [
       "<matplotlib.figure.Figure at 0x1069598d0>"
      ]
     },
     "metadata": {},
     "output_type": "display_data"
    }
   ],
   "source": [
    "fig1, (i1,i2,i3) = plt.subplots(ncols=3, sharex=True, sharey=True, subplot_kw={'adjustable':'box-forced'})\n",
    "\n",
    "i1.imshow(train_dataset[285])\n",
    "i1.set_title(train_labels[285])\n",
    "i1.axis('off')\n",
    "\n",
    "i2.imshow(test_dataset[430])\n",
    "i2.set_title(test_labels[430])\n",
    "i2.axis('off')\n",
    "\n",
    "i3.imshow(valid_dataset[100])\n",
    "i3.set_title(valid_labels[100])\n",
    "i3.axis('off')\n",
    "\n",
    "plt.show()\n",
    "#the labels are all wrong!!!!! except for 6."
   ]
  },
  {
   "cell_type": "code",
   "execution_count": 12,
   "metadata": {
    "collapsed": false
   },
   "outputs": [
    {
     "name": "stdout",
     "output_type": "stream",
     "text": [
      "ipos: 285  jpos: 430\n",
      "ipos: 344  jpos: 144\n",
      "ipos: 363  jpos: 129\n",
      "ipos: 381  jpos: 388\n",
      "ipos: 420  jpos: 360\n",
      "ipos: 555  jpos: 918\n",
      "ipos: 1274  jpos: 549\n",
      "ipos: 1283  jpos: 546\n",
      "ipos: 1299  jpos: 98\n",
      "ipos: 1405  jpos: 865\n",
      "ipos: 1555  jpos: 15\n",
      "ipos: 2604  jpos: 411\n",
      "ipos: 2738  jpos: 802\n",
      "ipos: 3326  jpos: 457\n",
      "ipos: 3643  jpos: 584\n",
      "ipos: 3720  jpos: 509\n",
      "ipos: 3861  jpos: 128\n",
      "ipos: 4005  jpos: 669\n",
      "ipos: 4089  jpos: 975\n",
      "ipos: 4483  jpos: 141\n",
      "ipos: 4537  jpos: 719\n",
      "ipos: 5016  jpos: 832\n",
      "ipos: 5067  jpos: 254\n",
      "ipos: 5297  jpos: 475\n",
      "ipos: 5310  jpos: 215\n",
      "ipos: 5580  jpos: 293\n",
      "ipos: 5636  jpos: 584\n",
      "ipos: 5767  jpos: 345\n",
      "ipos: 5837  jpos: 674\n",
      "ipos: 5878  jpos: 609\n",
      "ipos: 5889  jpos: 585\n",
      "ipos: 6182  jpos: 845\n",
      "ipos: 6362  jpos: 457\n",
      "ipos: 6367  jpos: 424\n",
      "ipos: 6901  jpos: 970\n",
      "ipos: 6970  jpos: 287\n",
      "ipos: 7006  jpos: 773\n",
      "ipos: 7142  jpos: 464\n",
      "ipos: 7603  jpos: 374\n",
      "ipos: 7798  jpos: 394\n",
      "ipos: 7934  jpos: 429\n",
      "ipos: 8117  jpos: 334\n",
      "ipos: 8705  jpos: 375\n",
      "ipos: 8766  jpos: 55\n",
      "ipos: 8913  jpos: 388\n",
      "ipos: 8930  jpos: 525\n",
      "ipos: 8983  jpos: 929\n",
      "ipos: 9001  jpos: 469\n",
      "ipos: 9044  jpos: 785\n",
      "ipos: 9055  jpos: 516\n",
      "ipos: 9546  jpos: 970\n",
      "ipos: 9655  jpos: 0\n",
      "ipos: 9676  jpos: 53\n",
      "ipos: 9764  jpos: 146\n",
      "ipos: 9838  jpos: 766\n",
      "ipos: 9851  jpos: 952\n",
      "ipos: 10467  jpos: 80\n",
      "ipos: 10532  jpos: 290\n",
      "ipos: 10742  jpos: 241\n",
      "ipos: 11085  jpos: 227\n",
      "ipos: 11216  jpos: 226\n",
      "ipos: 11342  jpos: 967\n",
      "ipos: 11390  jpos: 388\n",
      "ipos: 11465  jpos: 147\n",
      "ipos: 11658  jpos: 785\n",
      "ipos: 11883  jpos: 922\n",
      "ipos: 12002  jpos: 10\n",
      "ipos: 12055  jpos: 146\n",
      "ipos: 12139  jpos: 244\n",
      "ipos: 12313  jpos: 635\n",
      "ipos: 12523  jpos: 668\n",
      "ipos: 12573  jpos: 245\n",
      "ipos: 12637  jpos: 214\n",
      "ipos: 12744  jpos: 500\n",
      "ipos: 12986  jpos: 159\n",
      "ipos: 13008  jpos: 0\n",
      "ipos: 13027  jpos: 727\n",
      "ipos: 13043  jpos: 52\n",
      "ipos: 13091  jpos: 724\n",
      "ipos: 13321  jpos: 460\n",
      "ipos: 13328  jpos: 418\n",
      "ipos: 13737  jpos: 614\n",
      "ipos: 13815  jpos: 28\n",
      "ipos: 13815  jpos: 270\n",
      "ipos: 13879  jpos: 660\n",
      "ipos: 14839  jpos: 8\n",
      "ipos: 14874  jpos: 0\n",
      "ipos: 15058  jpos: 245\n",
      "ipos: 15169  jpos: 284\n",
      "ipos: 15410  jpos: 833\n",
      "ipos: 15416  jpos: 584\n",
      "ipos: 15666  jpos: 838\n",
      "ipos: 15995  jpos: 247\n",
      "ipos: 16186  jpos: 256\n",
      "ipos: 16354  jpos: 368\n",
      "ipos: 16838  jpos: 388\n",
      "ipos: 16880  jpos: 207\n",
      "ipos: 16880  jpos: 651\n",
      "ipos: 17000  jpos: 984\n",
      "ipos: 17471  jpos: 773\n",
      "ipos: 17532  jpos: 52\n",
      "ipos: 17555  jpos: 127\n",
      "ipos: 17667  jpos: 404\n",
      "ipos: 17667  jpos: 631\n",
      "ipos: 17683  jpos: 175\n",
      "ipos: 17721  jpos: 782\n",
      "ipos: 17815  jpos: 726\n",
      "ipos: 17815  jpos: 779\n",
      "ipos: 17903  jpos: 620\n",
      "ipos: 18111  jpos: 623\n",
      "ipos: 18329  jpos: 682\n",
      "ipos: 18470  jpos: 353\n",
      "ipos: 18514  jpos: 545\n",
      "ipos: 18743  jpos: 929\n",
      "ipos: 19077  jpos: 3\n",
      "ipos: 19077  jpos: 742\n",
      "ipos: 19483  jpos: 623\n",
      "ipos: 19538  jpos: 57\n",
      "ipos: 19540  jpos: 902\n",
      "ipos: 19552  jpos: 298\n",
      "ipos: 19577  jpos: 975\n",
      "ipos: 19628  jpos: 917\n",
      "ipos: 19682  jpos: 569\n",
      "ipos: 19690  jpos: 969\n",
      "ipos: 19945  jpos: 652\n",
      "ipos: 20178  jpos: 1668\n",
      "ipos: 20201  jpos: 1432\n",
      "ipos: 20396  jpos: 1233\n",
      "ipos: 20398  jpos: 1326\n",
      "ipos: 20453  jpos: 1660\n",
      "ipos: 20484  jpos: 1758\n",
      "ipos: 20792  jpos: 1724\n",
      "ipos: 20822  jpos: 1074\n",
      "ipos: 20974  jpos: 1951\n",
      "ipos: 21161  jpos: 1766\n",
      "ipos: 21243  jpos: 1272\n",
      "ipos: 21243  jpos: 1443\n",
      "ipos: 21260  jpos: 1823\n",
      "ipos: 21323  jpos: 1656\n",
      "ipos: 21415  jpos: 1668\n",
      "ipos: 21572  jpos: 1313\n",
      "ipos: 21587  jpos: 1381\n",
      "ipos: 21598  jpos: 1079\n",
      "ipos: 21713  jpos: 1113\n",
      "ipos: 21724  jpos: 1505\n",
      "ipos: 21765  jpos: 1523\n",
      "ipos: 21847  jpos: 1461\n",
      "ipos: 21921  jpos: 1990\n",
      "ipos: 22014  jpos: 1647\n",
      "ipos: 22041  jpos: 1372\n",
      "ipos: 22086  jpos: 1811\n",
      "ipos: 22129  jpos: 1881\n",
      "ipos: 22165  jpos: 1512\n",
      "ipos: 22258  jpos: 1518\n",
      "ipos: 22462  jpos: 1635\n",
      "ipos: 22499  jpos: 1647\n",
      "ipos: 22583  jpos: 1805\n",
      "ipos: 23031  jpos: 1476\n",
      "ipos: 23080  jpos: 1744\n",
      "ipos: 23094  jpos: 1052\n",
      "ipos: 23219  jpos: 1998\n",
      "ipos: 23253  jpos: 1025\n"
     ]
    },
    {
     "ename": "KeyboardInterrupt",
     "evalue": "",
     "output_type": "error",
     "traceback": [
      "\u001b[0;31m---------------------------------------------------------------------------\u001b[0m",
      "\u001b[0;31mKeyboardInterrupt\u001b[0m                         Traceback (most recent call last)",
      "\u001b[0;32m<ipython-input-12-ed57a199cd89>\u001b[0m in \u001b[0;36m<module>\u001b[0;34m()\u001b[0m\n\u001b[1;32m      5\u001b[0m     \u001b[0mjpos\u001b[0m\u001b[0;34m=\u001b[0m\u001b[0;36m0\u001b[0m\u001b[0;34m\u001b[0m\u001b[0m\n\u001b[1;32m      6\u001b[0m     \u001b[0;32mfor\u001b[0m \u001b[0mj\u001b[0m \u001b[0;32min\u001b[0m \u001b[0mtest_dataset\u001b[0m\u001b[0;34m:\u001b[0m\u001b[0;34m\u001b[0m\u001b[0m\n\u001b[0;32m----> 7\u001b[0;31m         \u001b[0;32mif\u001b[0m \u001b[0;34m(\u001b[0m\u001b[0mnp\u001b[0m\u001b[0;34m.\u001b[0m\u001b[0marray_equal\u001b[0m\u001b[0;34m(\u001b[0m\u001b[0mi\u001b[0m\u001b[0;34m,\u001b[0m\u001b[0mj\u001b[0m\u001b[0;34m)\u001b[0m \u001b[0;32mand\u001b[0m \u001b[0mtrain_labels\u001b[0m\u001b[0;34m[\u001b[0m\u001b[0mipos\u001b[0m\u001b[0;34m]\u001b[0m\u001b[0;34m==\u001b[0m\u001b[0mtest_labels\u001b[0m\u001b[0;34m[\u001b[0m\u001b[0mjpos\u001b[0m\u001b[0;34m]\u001b[0m\u001b[0;34m)\u001b[0m \u001b[0;34m:\u001b[0m\u001b[0;34m\u001b[0m\u001b[0m\n\u001b[0m\u001b[1;32m      8\u001b[0m             \u001b[0;32mprint\u001b[0m \u001b[0;34m(\u001b[0m\u001b[0;34m\"ipos:\"\u001b[0m \u001b[0;34m,\u001b[0m \u001b[0mipos\u001b[0m \u001b[0;34m,\u001b[0m\u001b[0;34m\" jpos:\"\u001b[0m\u001b[0;34m,\u001b[0m\u001b[0mjpos\u001b[0m\u001b[0;34m)\u001b[0m\u001b[0;34m\u001b[0m\u001b[0m\n\u001b[1;32m      9\u001b[0m         \u001b[0mjpos\u001b[0m\u001b[0;34m+=\u001b[0m\u001b[0;36m1\u001b[0m\u001b[0;34m\u001b[0m\u001b[0m\n",
      "\u001b[0;32m/Users/dc/tmp/cs231n/venv/lib/python2.7/site-packages/numpy/core/numeric.pyc\u001b[0m in \u001b[0;36marray_equal\u001b[0;34m(a1, a2)\u001b[0m\n\u001b[1;32m   2513\u001b[0m     \u001b[0;32mif\u001b[0m \u001b[0ma1\u001b[0m\u001b[0;34m.\u001b[0m\u001b[0mshape\u001b[0m \u001b[0;34m!=\u001b[0m \u001b[0ma2\u001b[0m\u001b[0;34m.\u001b[0m\u001b[0mshape\u001b[0m\u001b[0;34m:\u001b[0m\u001b[0;34m\u001b[0m\u001b[0m\n\u001b[1;32m   2514\u001b[0m         \u001b[0;32mreturn\u001b[0m \u001b[0mFalse\u001b[0m\u001b[0;34m\u001b[0m\u001b[0m\n\u001b[0;32m-> 2515\u001b[0;31m     \u001b[0;32mreturn\u001b[0m \u001b[0mbool\u001b[0m\u001b[0;34m(\u001b[0m\u001b[0masarray\u001b[0m\u001b[0;34m(\u001b[0m\u001b[0ma1\u001b[0m \u001b[0;34m==\u001b[0m \u001b[0ma2\u001b[0m\u001b[0;34m)\u001b[0m\u001b[0;34m.\u001b[0m\u001b[0mall\u001b[0m\u001b[0;34m(\u001b[0m\u001b[0;34m)\u001b[0m\u001b[0;34m)\u001b[0m\u001b[0;34m\u001b[0m\u001b[0m\n\u001b[0m\u001b[1;32m   2516\u001b[0m \u001b[0;34m\u001b[0m\u001b[0m\n\u001b[1;32m   2517\u001b[0m \u001b[0;32mdef\u001b[0m \u001b[0marray_equiv\u001b[0m\u001b[0;34m(\u001b[0m\u001b[0ma1\u001b[0m\u001b[0;34m,\u001b[0m \u001b[0ma2\u001b[0m\u001b[0;34m)\u001b[0m\u001b[0;34m:\u001b[0m\u001b[0;34m\u001b[0m\u001b[0m\n",
      "\u001b[0;31mKeyboardInterrupt\u001b[0m: "
     ]
    }
   ],
   "source": [
    "#measure overlap training/test/validation\n",
    "\n",
    "ipos=0\n",
    "for i in train_dataset:\n",
    "    jpos=0\n",
    "    for j in test_dataset: \n",
    "        if (np.array_equal(i,j) and train_labels[ipos]==test_labels[jpos]) :\n",
    "            print (\"ipos:\" , ipos ,\" jpos:\",jpos)\n",
    "        jpos+=1\n",
    "    ipos +=1\n",
    "    "
   ]
  },
  {
   "cell_type": "code",
   "execution_count": null,
   "metadata": {
    "collapsed": true
   },
   "outputs": [],
   "source": []
  }
 ],
 "metadata": {
  "kernelspec": {
   "display_name": "Python 2",
   "language": "python",
   "name": "python2"
  },
  "language_info": {
   "codemirror_mode": {
    "name": "ipython",
    "version": 2
   },
   "file_extension": ".py",
   "mimetype": "text/x-python",
   "name": "python",
   "nbconvert_exporter": "python",
   "pygments_lexer": "ipython2",
   "version": "2.7.11"
  }
 },
 "nbformat": 4,
 "nbformat_minor": 1
}
