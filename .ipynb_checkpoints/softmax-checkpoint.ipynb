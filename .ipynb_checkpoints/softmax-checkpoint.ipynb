{
 "cells": [
  {
   "cell_type": "code",
   "execution_count": 26,
   "metadata": {
    "collapsed": false
   },
   "outputs": [
    {
     "name": "stdout",
     "output_type": "stream",
     "text": [
      "[ 0.8360188   0.11314284  0.05083836]\n",
      "scores for plot\n",
      "[[ -2.00000000e+00  -1.90000000e+00  -1.80000000e+00  -1.70000000e+00\n",
      "   -1.60000000e+00  -1.50000000e+00  -1.40000000e+00  -1.30000000e+00\n",
      "   -1.20000000e+00  -1.10000000e+00  -1.00000000e+00  -9.00000000e-01\n",
      "   -8.00000000e-01  -7.00000000e-01  -6.00000000e-01  -5.00000000e-01\n",
      "   -4.00000000e-01  -3.00000000e-01  -2.00000000e-01  -1.00000000e-01\n",
      "    1.77635684e-15   1.00000000e-01   2.00000000e-01   3.00000000e-01\n",
      "    4.00000000e-01   5.00000000e-01   6.00000000e-01   7.00000000e-01\n",
      "    8.00000000e-01   9.00000000e-01   1.00000000e+00   1.10000000e+00\n",
      "    1.20000000e+00   1.30000000e+00   1.40000000e+00   1.50000000e+00\n",
      "    1.60000000e+00   1.70000000e+00   1.80000000e+00   1.90000000e+00\n",
      "    2.00000000e+00   2.10000000e+00   2.20000000e+00   2.30000000e+00\n",
      "    2.40000000e+00   2.50000000e+00   2.60000000e+00   2.70000000e+00\n",
      "    2.80000000e+00   2.90000000e+00   3.00000000e+00   3.10000000e+00\n",
      "    3.20000000e+00   3.30000000e+00   3.40000000e+00   3.50000000e+00\n",
      "    3.60000000e+00   3.70000000e+00   3.80000000e+00   3.90000000e+00\n",
      "    4.00000000e+00   4.10000000e+00   4.20000000e+00   4.30000000e+00\n",
      "    4.40000000e+00   4.50000000e+00   4.60000000e+00   4.70000000e+00\n",
      "    4.80000000e+00   4.90000000e+00   5.00000000e+00   5.10000000e+00\n",
      "    5.20000000e+00   5.30000000e+00   5.40000000e+00   5.50000000e+00\n",
      "    5.60000000e+00   5.70000000e+00   5.80000000e+00   5.90000000e+00]\n",
      " [  1.00000000e+00   1.00000000e+00   1.00000000e+00   1.00000000e+00\n",
      "    1.00000000e+00   1.00000000e+00   1.00000000e+00   1.00000000e+00\n",
      "    1.00000000e+00   1.00000000e+00   1.00000000e+00   1.00000000e+00\n",
      "    1.00000000e+00   1.00000000e+00   1.00000000e+00   1.00000000e+00\n",
      "    1.00000000e+00   1.00000000e+00   1.00000000e+00   1.00000000e+00\n",
      "    1.00000000e+00   1.00000000e+00   1.00000000e+00   1.00000000e+00\n",
      "    1.00000000e+00   1.00000000e+00   1.00000000e+00   1.00000000e+00\n",
      "    1.00000000e+00   1.00000000e+00   1.00000000e+00   1.00000000e+00\n",
      "    1.00000000e+00   1.00000000e+00   1.00000000e+00   1.00000000e+00\n",
      "    1.00000000e+00   1.00000000e+00   1.00000000e+00   1.00000000e+00\n",
      "    1.00000000e+00   1.00000000e+00   1.00000000e+00   1.00000000e+00\n",
      "    1.00000000e+00   1.00000000e+00   1.00000000e+00   1.00000000e+00\n",
      "    1.00000000e+00   1.00000000e+00   1.00000000e+00   1.00000000e+00\n",
      "    1.00000000e+00   1.00000000e+00   1.00000000e+00   1.00000000e+00\n",
      "    1.00000000e+00   1.00000000e+00   1.00000000e+00   1.00000000e+00\n",
      "    1.00000000e+00   1.00000000e+00   1.00000000e+00   1.00000000e+00\n",
      "    1.00000000e+00   1.00000000e+00   1.00000000e+00   1.00000000e+00\n",
      "    1.00000000e+00   1.00000000e+00   1.00000000e+00   1.00000000e+00\n",
      "    1.00000000e+00   1.00000000e+00   1.00000000e+00   1.00000000e+00\n",
      "    1.00000000e+00   1.00000000e+00   1.00000000e+00   1.00000000e+00]\n",
      " [  2.00000000e-01   2.00000000e-01   2.00000000e-01   2.00000000e-01\n",
      "    2.00000000e-01   2.00000000e-01   2.00000000e-01   2.00000000e-01\n",
      "    2.00000000e-01   2.00000000e-01   2.00000000e-01   2.00000000e-01\n",
      "    2.00000000e-01   2.00000000e-01   2.00000000e-01   2.00000000e-01\n",
      "    2.00000000e-01   2.00000000e-01   2.00000000e-01   2.00000000e-01\n",
      "    2.00000000e-01   2.00000000e-01   2.00000000e-01   2.00000000e-01\n",
      "    2.00000000e-01   2.00000000e-01   2.00000000e-01   2.00000000e-01\n",
      "    2.00000000e-01   2.00000000e-01   2.00000000e-01   2.00000000e-01\n",
      "    2.00000000e-01   2.00000000e-01   2.00000000e-01   2.00000000e-01\n",
      "    2.00000000e-01   2.00000000e-01   2.00000000e-01   2.00000000e-01\n",
      "    2.00000000e-01   2.00000000e-01   2.00000000e-01   2.00000000e-01\n",
      "    2.00000000e-01   2.00000000e-01   2.00000000e-01   2.00000000e-01\n",
      "    2.00000000e-01   2.00000000e-01   2.00000000e-01   2.00000000e-01\n",
      "    2.00000000e-01   2.00000000e-01   2.00000000e-01   2.00000000e-01\n",
      "    2.00000000e-01   2.00000000e-01   2.00000000e-01   2.00000000e-01\n",
      "    2.00000000e-01   2.00000000e-01   2.00000000e-01   2.00000000e-01\n",
      "    2.00000000e-01   2.00000000e-01   2.00000000e-01   2.00000000e-01\n",
      "    2.00000000e-01   2.00000000e-01   2.00000000e-01   2.00000000e-01\n",
      "    2.00000000e-01   2.00000000e-01   2.00000000e-01   2.00000000e-01\n",
      "    2.00000000e-01   2.00000000e-01   2.00000000e-01   2.00000000e-01]]\n",
      "----------------\n"
     ]
    },
    {
     "data": {
      "image/png": "[encoded data removed]",
      "text/plain": [
       "<matplotlib.figure.Figure at 0x107415650>"
      ]
     },
     "metadata": {},
     "output_type": "display_data"
    },
    {
     "name": "stdout",
     "output_type": "stream",
     "text": [
      "running test case 1d\n",
      "[ 0.09003057  0.24472847  0.66524096]\n",
      "running test case 2d\n",
      "[[ 0.09003057  0.00242826  0.01587624  0.33333333]\n",
      " [ 0.24472847  0.01794253  0.11731043  0.33333333]\n",
      " [ 0.66524096  0.97962921  0.86681333  0.33333333]]\n"
     ]
    }
   ],
   "source": [
    "import numpy as np\n",
    "\n",
    "#softmax function example from udacity class\n",
    "\n",
    "\n",
    "scores = [3.0,1.0,0.2]\n",
    "\n",
    "\n",
    "\n",
    "def softmax_1d(x):\n",
    "    \"\"\"Compute softmax values for each sets of scores in x.\"\"\"\n",
    "    returnMe = np.array([],np.double)\n",
    "    sum = np.sum([np.exp(val) for val in x])\n",
    "    result = [np.exp(val)/sum for val in x]\n",
    "    return np.array(result)\n",
    "\n",
    "def softmax(x): \n",
    "    return np.exp(x)/ np.sum(np.exp(x),axis=0)\n",
    "    \n",
    "\n",
    "\n",
    "\n",
    "print(softmax(scores))\n",
    "# Plot softmax curves\n",
    "import matplotlib.pyplot as plt\n",
    "x = np.arange(-2.0, 6.0, 0.1)\n",
    "scores = np.vstack([x, np.ones_like(x), 0.2 * np.ones_like(x)])\n",
    "\n",
    "print 'scores for plot'\n",
    "print scores\n",
    "print '----------------'\n",
    "\n",
    "\n",
    "plt.plot(x, softmax(scores).T, linewidth=2)\n",
    "plt.show()\n",
    "\n",
    "print 'running test case 1d'\n",
    "scores = [1.0, 2.0, 3.0]\n",
    "print (softmax(scores))\n",
    "\n",
    "print 'running test case 2d'\n",
    "scores = np.array([[1, 2, 3, 6],\n",
    "                   [2, 4, 5, 6],\n",
    "                   [3, 8, 7, 6]])\n",
    "print (softmax(scores))\n",
    "\n",
    "\n",
    "\n",
    "\n"
   ]
  },
  {
   "cell_type": "code",
   "execution_count": 19,
   "metadata": {
    "collapsed": false
   },
   "outputs": [
    {
     "name": "stdout",
     "output_type": "stream",
     "text": [
      "val: [1 2 3] softmax(val): [ 0.09003057  0.24472847  0.66524096]\n",
      "val: [2 4 8] softmax(val): [ 0.00242826  0.01794253  0.97962921]\n",
      "val: [3 5 7] softmax(val): [ 0.01587624  0.11731043  0.86681333]\n",
      "val: [6 6 6] softmax(val): [ 0.33333333  0.33333333  0.33333333]\n",
      "r.T: [[ 0.09003057  0.00242826  0.01587624  0.33333333]\n",
      " [ 0.24472847  0.01794253  0.11731043  0.33333333]\n",
      " [ 0.66524096  0.97962921  0.86681333  0.33333333]]\n"
     ]
    }
   ],
   "source": [
    "\n",
    "scores = np.array([[1, 2, 3, 6],\n",
    "                   [2, 4, 5, 6],\n",
    "                   [3, 8, 7, 6]])\n",
    "\n",
    "list_result = []\n",
    "for val in scores.T:\n",
    "    #print 'val:', val, 'softmax(val):',softmax_1d(val)\n",
    "    list_result.append(softmax_1d(val).tolist())\n",
    "    \n",
    "r = np.array(list_result)\n",
    "print 'r.T:', r.T"
   ]
  },
  {
   "cell_type": "code",
   "execution_count": null,
   "metadata": {
    "collapsed": true
   },
   "outputs": [],
   "source": [
    "[[ 0.09003057  0.00242826  0.01587624  0.33333333]\n",
    " [ 0.24472847  0.01794253  0.11731043  0.33333333]\n",
    " [ 0.66524096  0.97962921  0.86681333  0.33333333]]"
   ]
  }
 ],
 "metadata": {
  "kernelspec": {
   "display_name": "Python 2",
   "language": "python",
   "name": "python2"
  },
  "language_info": {
   "codemirror_mode": {
    "name": "ipython",
    "version": 2
   },
   "file_extension": ".py",
   "mimetype": "text/x-python",
   "name": "python",
   "nbconvert_exporter": "python",
   "pygments_lexer": "ipython2",
   "version": "2.7.11"
  }
 },
 "nbformat": 4,
 "nbformat_minor": 1
}
